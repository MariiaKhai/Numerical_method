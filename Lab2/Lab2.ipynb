{
 "cells": [
  {
   "cell_type": "markdown",
   "metadata": {},
   "source": [
    "# Лабораторная работа № 2\n",
    "## УТОЧНЕНИЕ ПРИБЛИЖЕННОГО КОРНЯ УРАВНЕНИЯ МЕТОДОМ ХОРД, МЕТОДОМ КАСАТЕЛЬНЫХ (НЬЮТОНА), МОДИФИЦИРОВАННЫМ МЕТОДОМ НЬЮТОНА, МЕТОДОМ СЕКУЩИХ, КОМБИНИРОВАННЫМ МЕТОДОМ \n"
   ]
  },
  {
   "cell_type": "markdown",
   "metadata": {},
   "source": [
    "### Цель работы: \n",
    "изучить численные методы уточнения корней уравнений: метод хорд, метод касательных, модифицированный метод касательных, метод секущих, комбинированный метод; вычислить предложенными методами с точностью до $\\epsilon = 10^{-5}.$ действительный корень заданного алгебраического уравнения $f(x) = 0$."
   ]
  },
  {
   "cell_type": "markdown",
   "metadata": {},
   "source": [
    "## Постановка задачи\n",
    "1. \tОтделить корни для заданного алгебраического уравнения $f(x) = 0$. Для решения этой задачи использовать графический метод.\n",
    "2.  Решить задачу уточнения корня, используя комбинированный метод (ручной счет). \n",
    "3.\tРешить задачу уточнения корней уравнения с заданной точностью $\\epsilon = 10^{-5}.$  , используя метод хорд, метод касательных, модифицированный метод касательных, метод секущих, комбинированный метод в пакете МATHCAD, записав соответствующие программные блоки.\n",
    "4. \tРешить задачу уточнения корней предложенными методами с заданной точностью в среде MATLAB. \n",
    "5.\tПроверить правильность результатов с помощью встроенных функций пакетов.\n",
    "6.\tСвести  все полученные результаты в таблицу, сделать выводы о скорости сходимости использованных методов, оценить погрешность результата, используя теорему о погрешности приближенного корня.\n",
    "\n"
   ]
  },
  {
   "cell_type": "markdown",
   "metadata": {},
   "source": [
    "## Содержание отчета\n",
    "1.\tПостановка задачи.\n",
    "2.\tТеоретические сведения: расчетные формулы и геометрическая интерпретация для каждого метода.\n",
    "3.\tТри-четыре итерации комбинированного метода для заданного уравнения (ручной счет).\n",
    "4.\tРезультаты счета на ЭВМ.\n",
    "5.\tВыводы.\n"
   ]
  },
  {
   "cell_type": "markdown",
   "metadata": {},
   "source": [
    "## Теоретические сведения"
   ]
  },
  {
   "cell_type": "markdown",
   "metadata": {},
   "source": [
    "### Метод линейной интерполяции (метод хорд). \n",
    "Пусть дано уравнение $$f(x) = 0, (2.1)$$ где функция $f(x)$ непрерывна на $[a, b]$ и $f(a)\\cdot f(b) \\lt 0$ ( $f(a)$ and $f(b$). \n",
    "Тогда, вместо того чтобы делить отрезок $[a, b]$ пополам (как это делается в методе половинного деления), более естественно поделить его в отношении $\\frac{f(a)}{f(b)}$. TЭто дает приближенное значение корня  $x_{0} = b + h_{1}$, где \n",
    "\n",
    "$$h_{1} = \\frac{- f(b)}{f(a) - f(b)}(a - b) = -\\frac{f(b)(a - b)}{f(a) - f(b)}.$$\n",
    "\n",
    "Далее, применив этот прием к тому из отрезков ($[a, x_{0}]$ or $[x_{0}, b]$), на концах которого функция $f(x)$ имеет противоположные знаки, получим второе приближение корня $x_{2}$ и т.д.\n",
    "\n",
    "Геометрически способ пропорциональных частей эквивалентен замене кривой $y = f(x)$ хордой, проходящей через точки A $(a; f(a))$ и B $(b; f(b))$ (рис. 2.1).\n",
    "\n",
    "#### ![Рис. 2.1. Геометрическая интерпретация метода хорд](img/1.png)\n",
    "Рис. 2.1. Геометрическая интерпретация метода хорд\n",
    "\n",
    "В самом деле, уравнение хорды AB есть $$\\frac{x - b}{a - b} = \\frac{y - f(b)}{f(a) - f(b)}.$$\n",
    "\n",
    "Отсюда, полагая $x = x_{0}$ и $y = 0$, получаем $$x_{0} = b - \\frac{f(b)(a - b)}{f(a) - f(b)}.$$\n",
    "\n",
    "Для сходимости метода хорд необходимо, чтобы выполнялись следующие условия:\n",
    "1. Неподвижен тот конец хорды, для которого знак функции $f(x)$ совпадает со знаком ее второй производной $f''(x)$;\n",
    "2. Последовательные приближения $x_{n}$ лежат по ту сторону корня $\\xi$ где функция $f(x)$ имеет знак, противоположный знаку ее второй производной $f''(x)$.\n",
    "\n",
    "Расчетная формула метода в случае неподвижной точки a: \n",
    "\n",
    "$$x_{n} = x_{n-1} - \\frac{f(x_{n-1})(a - x_{n-1})}{f(a) - f(x_{n-1})}.$$\n",
    "\n",
    "Если отрезок $[a, b]$ достаточно мал, то погрешность метода определяется так: \n",
    "$|\\xi - x_{n}| \\lt |x_{n} - x_{n-1}|$\n",
    "Таким образом, в этом случае, как только будет выполняться условие  $|x_{n} - x_{n-1}| \\lt \\epsilon$, где $\\epsilon$ – заданная предельная абсолютная погрешность, гарантировано, что  $|\\xi - x_{n}| \\lt \\epsilon$.\n",
    "\n",
    "### Метод Ньютона (метод касательных).\n",
    "Пусть $\\xi$ – корень  уравнения $f(x) = 0$ – отделен на отрезке $[a, b]$, причем $f’(x)$ и $f’’(x)$ непрерывны и сохраняют определенные знаки при $a \\leq x \\leq b$.\n",
    "Положим $\\xi = x_{n} + h_{n}$, где $h_{n}$ считаем малой  величиной. Отсюда, применив формулу Тейлора, получим\n",
    "$0 = f(x_{n} + h_{n}) \\approx f(x_{n}) + h_{n}f'(x_{n})$\n",
    "\n",
    "Следовательно,\n",
    "\n",
    "$$h_{n} = -\\frac{f(x_{n})}{f'(x_{n})}.$$\n",
    "\n",
    "Внеся эту поправку в формулу уточнения корня, можно найти следующее (по порядку) приближение корня:\n",
    "\n",
    "$$x_{n+1} = x_{n} - \\frac{f(x_{n})}{f'(x_{n})}.$$ (n=0,1,2,3...)\n",
    "\n",
    "Геометрически метод Ньютона эквивалентен замене небольшой дуги кривой y = f(x) касательной, проведённой в некоторой точке кривой (рис. 2.2).\n",
    "\n",
    "#### ![Рис. 2.2. Геометрическая интерпретация метода Ньютона](img/2.png)\n",
    "Рис. 2.2. Геометрическая интерпретация метода Ньютона\n",
    "\n",
    "$\\underline{Теорема}$. Если $f(a)\\cdot f(b) \\lt 0$, причем  $f'(x)$ andи $f''(x)$ отличны от нуля и сохраняют определенные знаки при $a \\le x \\le b$, то, исходя из начального приближения $x_{0} \\in [a, b]$ то, исходя из начального приближения $f(x_{0})\\cdot f''(x_{0}) \\gt 0$, можно вычислить методом Ньютона. \n",
    "\n",
    "$$x_{n+1} = x_{n} - \\frac{f(x_{n})}{f'(x_{n})}.$$\n",
    "\n",
    "единственный корень $\\xi$ уровнения $f(x) = 0$ с любой степенью точности. \n",
    "\n",
    "Применяя метод Ньютона, следует руководствоваться следующим правилом: в качестве исходной точки $x_{0}$ \n",
    "выбирается тот конец интервала $[a, b]$  , которому отвечает ордината того же знака, что и знак $f''(x)$.\n",
    "Условием завершения итерационного процесса является выполнение неравенства  $|x_{n} - x_{n-1}| \\lt \\epsilon$ где $\\epsilon$ – заданная предельная абсолютная погрешность.\n",
    "\n",
    "### Модифицированный метод Ньютона.\n",
    "Если производная $f’(x)$ мало изменяется на отрезке $[a, b]$, то в расчетной формуле метода касательных можно положить  $f'(x_{n})\\approx f'(x_{n})$ .                                        \n",
    "Отсюда для корня $\\xi$ уравнения $f(x) = 0$ получаем последовательные приближения\n",
    "$$x_{n+1} = x_{n} - \\frac{f(x_{n})}{f'(x_{0})}.$$ (n=0,1,2...)\n",
    "Геометрически этот способ означает, что заменяются касательные в точках $B_{n}[x_{n}, f(x_{n})]$ прямыми, параллельными касательной к кривой $y = f(x)$, в её фиксированной точке $B_{0}[x_{0}, f(x_{0})]$ (рис. 2.3). Эта формула весьма полезна, если $f'(x)$ сложна.\n",
    "#### ![Рис. 2.3. Геометрическая интерпретация модифицированного метода Ньютона](img/4.png)\n",
    "Рис. 2.3. Геометрическая интерпретация модифицированного метода Ньютона\n",
    "\n",
    "### Комбинированный метод.\n",
    "Метод, используемый для вычисления значения корня с заданной точностью, заключается в поочередном применении метода хорд и метода касательных. Концы отрезка, содержащего корень уравнения, обозначим $a_{0}$ и $b_{0}$. Условимся обозначать через  $a_{0}$ тот конец отрезка, на котором знаки функции $f(x)$ и её второй производной $f''(x)$ совпадают. Через точки  $[a_{0}, f(a_{0})], [b_{0}, f(b_{0})]$. проведём хорду. Точку пересечения хорды с осью Ох обозначим через $b_{1}$. В точке $[b_{0}, f(b_{0})]$ проведём касательную к кривой $y = f(x)$. Точку пересечения касательной с осью Ох обозначим через, $a_{1}$ Итак, получен новый отрезок с концами $a_{1}$ и $b_{1}$, содержащий корень уравнения (рис. 2.4). Аналогично получаем отрезок с концами   $a_{2}$ и $b_{2}$, и т.д.\n",
    "    \n",
    "#### ![Рис. 2.4. Геометрическая интерпретация комбинированного метода](img/3.png)\n",
    "Рис. 2.4. Геометрическая интерпретация метода секущих\n",
    "\n",
    "Расчётные формулы комбинированного метода для случая, приведенного на рис. 2.4, имеют следующий вид:\n",
    "\n",
    "$$b_{n+1} = b_{b} - \\Delta b_{n}, \\Delta b_{n} = \\frac{f(a_{n})(b_{n} - a_{n})}{f(b_{n} - f(a_{n}))};$$\n",
    "$$a_{n+1} = a_{b} - \\Delta a_{n}, \\Delta a_{n} = \\frac{f(a_{n})}{f'(a_{n}))}.$$\n",
    "\n",
    "где n=0,1,... .\n",
    "Если корень уравнения требуется вычислить с точностью до $\\epsilon$, то процесс вычисления корня можно прекращать в тот момент, когда $|b_{n} - a_{n}| \\lt 2\\epsilon$. В качестве ответа взять среднее арифметическое последних полученных значений $a_{n}$ и $b_{n}$, т.е. \n",
    "\n",
    "$$\\xi = \\frac{a_{n} + b_{b}}{2}.$$ \n",
    "\n",
    "### Погрешность численного решения уравнения. \n",
    "Для  оценки точности  приближения  можно  воспользоваться формулой \n",
    "$$|x_{n} - \\xi| \\le \\frac{f(x_{n})}{m_{1}}, |f'(x)| \\ge m_{1}, a \\le x \\le b.$$\n",
    "\n",
    "Приведем еще формулу, позволяющую оценивать абсолютную погрешность приближенного значения $x_{n}$, если известны два  последовательных приближения $x_{n-1}$ и $x_{n}$. Будем предполагать, что производная $f'(x)$ непрерывна на отрезке $[a, b]$, содержащем  все приближения, и сохраняет постоянный знак, причем \n",
    "\n",
    "$$0 \\lt m_{1} \\le |f'(x)| \\lt M \\lt +\\infty.$$\n",
    "\n",
    "Примем для определенности, что последовательные приближения $x_{n}$ точного корня $\\xi$ вычисляются по  формуле \n",
    "\n",
    "$$x_{n} = x_{n-1} - \\frac{f(x_{n-1})}{f(x_{n-1}) - f(a))}(x_{n-1} - a), n = (1, 2, ...),$$\n",
    "\n",
    "где конец  является  неподвижным. Отсюда будем  иметь \n",
    "\n",
    "$$f(\\xi) - f(x_{n-1}) = \\frac{f(x_{n-1}) - f(a)}{x_{n-1} - a}(x_{n} - x_{n-1}).$$\n",
    "\n",
    "Применив теорему Лагранжа о конечном приращении функции, получим \n",
    "\n",
    "$$(\\xi - x_{n-1})f'(\\xi_{n-1}) = (x_{n} - x_{n-1})f'(\\overline{x_{n-1}}),$$\n",
    "\n",
    "\n",
    "где $\\xi_{n-1} \\in (x_{n-1}, \\xi)$ и $\\overline{x_{n-1} \\in (a, x_{n-1})}$. Следовательно, \n",
    "\n",
    "$$|\\xi - x_{n}| = \\frac{|f'(\\overline{x_{n-1}}) - f(\\xi_{n-1})|}{|f'(\\xi_{n-1})|}|x_{n} - x_{n-1}|. (2.1)$$\n",
    "\n",
    "\n",
    "Поскольку $f'(x)$ сохраняет постоянный знак на отрезке $[a, b]$, причем $\\overline{x_{n-1}} \\in [a, b]$ и $\\xi_{n-1} \\in [a, b],$, то, очевидно, имеем\n",
    "\n",
    "$$|f'(\\overline{x_{n-1}}) - f'(\\xi_{n-1})| \\le M_{1} - m_{1}.$$\n",
    "\n",
    "Из выражения (2.1) выводим формулу \n",
    "\n",
    "$$|\\xi - x_{n}| \\le \\frac{M_{1} - m_{1}}{m_{1}}|x_{n} - x_{n-1}|, (2.2)$$\n",
    "\n",
    "\n",
    "где за $m_{1}$, $M_{1}$ могут быть взяты соответственно наименьшее и наибольшее значения модуля производной $f'(x)$ на отрезке $[a, b]$. Если отрезок  столь  узок, что имеет место неравенство $M_{1} \\le 2m_{1}$ то  из формулы (2.2)  получаем \n",
    "\n",
    "$$|\\xi - x_{n}| \\le |x_{n} - x_{n-1}|.$$\n",
    "\n",
    "Таким  образом, в этом  случае, как только  будет выполняться условие $|\\xi - x_{n}| \\lt \\epsilon$ где $\\epsilon$ – заданная предельная абсолютная погрешность, гарантировано, что $|x_{n} - x_{n-1}| \\lt \\epsilon$."
   ]
  },
  {
   "cell_type": "markdown",
   "metadata": {},
   "source": [
    "## Примеры выполнения заданий\n",
    "### Уточнение корня комбинированным методом."
   ]
  },
  {
   "cell_type": "markdown",
   "metadata": {},
   "source": [
    "Вычислить с точностью до $\\epsilon = 10^{-3}$ действительный корень уравнения $x^{3} + 3x + 8 = 0$.\n",
    "\n",
    "Рассмотрим $$f(x) = x^{3} + 3x + 8.$$\n",
    "На отрезке$[-2, -1]$ содержится корень заданного уравнения, так как на концах этого отрезка функция $f(x)$ имеет разные знаки: $$f(-2) = -6, f(-1) = 4.$$\n",
    "Производная $f'(x) = 3x^{2} + 3 \\gt 0$ при всех, поэтому уравнение $x^{3} + 3x + 8 = 0$ имеет единственный действительный корень. Таким образом, на отрезке $[-2, -1]$ находится единственный действительный корень уравнения.\n",
    "Вторая производная $f''(x)=6x<0$  при $-2<=x<=-1$ , поэтому через $b_{0}$ обозначаем конец отрезка x=-2, т.е. $b_{0}=-2$, $a_{0}=-1$. Дальнейшие вычисления оформляем в виде таблицы:\n",
    "![](img/5.png)\n",
    "Пример взят из пособия С.В. Михайленко «Прикладная математика»."
   ]
  },
  {
   "cell_type": "markdown",
   "metadata": {},
   "source": [
    "## Пример вычислений \n",
    "Импортируем математический модуль"
   ]
  },
  {
   "cell_type": "code",
   "execution_count": 4,
   "metadata": {},
   "outputs": [],
   "source": [
    "from math import fabs"
   ]
  },
  {
   "cell_type": "markdown",
   "metadata": {},
   "source": [
    "Обьявление начальных значений и значение функций "
   ]
  },
  {
   "cell_type": "code",
   "execution_count": 5,
   "metadata": {},
   "outputs": [],
   "source": [
    "# initial values\n",
    "a, b, eps = -2, -1, 1e-3"
   ]
  },
  {
   "cell_type": "code",
   "execution_count": 6,
   "metadata": {},
   "outputs": [],
   "source": [
    "# function f(x)\n",
    "def f(x):\n",
    "    return x**3 + 3*x + 8"
   ]
  },
  {
   "cell_type": "code",
   "execution_count": 7,
   "metadata": {},
   "outputs": [],
   "source": [
    "# derivative of f(x)\n",
    "def df(x):\n",
    "    return 3*x**2 + 3"
   ]
  },
  {
   "cell_type": "markdown",
   "metadata": {},
   "source": [
    "Создаем функцию уточнения приближенного корня уравнения методом хорд(\"chord_method\") использываем цыкл  \"while\". Более подробную информацию о Python можно узнать тут: https://pythonworld.ru/tipy-dannyx-v-python/vse-o-funkciyax-i-ix-argumentax.html"
   ]
  },
  {
   "cell_type": "code",
   "execution_count": 8,
   "metadata": {},
   "outputs": [],
   "source": [
    "def chord_method(a, b, eps):\n",
    "    n = 0\n",
    "    while fabs(b - a) > eps:\n",
    "        a = b - (b - a) * f(b) / (f(b) - f(a))\n",
    "        b = a + (a - b) * f(a) / (f(a) - f(b))\n",
    "        n += 1\n",
    "    return (b, n)"
   ]
  },
  {
   "cell_type": "code",
   "execution_count": null,
   "metadata": {},
   "outputs": [],
   "source": [
    "Выводим результат функции"
   ]
  },
  {
   "cell_type": "code",
   "execution_count": 9,
   "metadata": {},
   "outputs": [
    {
     "name": "stdout",
     "output_type": "stream",
     "text": [
      "(-1.5131498333591615, 3)\n"
     ]
    }
   ],
   "source": [
    "print(chord_method(a, b, eps))"
   ]
  },
  {
   "cell_type": "code",
   "execution_count": null,
   "metadata": {},
   "outputs": [],
   "source": [
    "Аналогично создаем функцию метода Ньютона(\"newton_method\") и Комбинированного метода(\"combined_method\")"
   ]
  },
  {
   "cell_type": "code",
   "execution_count": 10,
   "metadata": {},
   "outputs": [],
   "source": [
    "def newton_method(a, b, eps):\n",
    "    n = 0\n",
    "    b = a - f(a) / df(a)\n",
    "    while fabs(b - a) > eps:\n",
    "        a = b\n",
    "        b -= f(b) / df(b)\n",
    "        n += 1\n",
    "    return (b, n)"
   ]
  },
  {
   "cell_type": "code",
   "execution_count": 11,
   "metadata": {},
   "outputs": [
    {
     "name": "stdout",
     "output_type": "stream",
     "text": [
      "(-1.5127453266306898, 3)\n"
     ]
    }
   ],
   "source": [
    "print(newton_method(a, b, eps))"
   ]
  },
  {
   "cell_type": "code",
   "execution_count": 12,
   "metadata": {},
   "outputs": [],
   "source": [
    "def combined_method(a, b, eps):\n",
    "    n = 0\n",
    "    while fabs(b - a) > eps:\n",
    "        a -= f(a) / df(a)\n",
    "        b -= f(b) * (a - b) / (f(a) - f(b))\n",
    "        n += 1\n",
    "    return ( (a + b) / 2, n)"
   ]
  },
  {
   "cell_type": "code",
   "execution_count": 13,
   "metadata": {},
   "outputs": [
    {
     "name": "stdout",
     "output_type": "stream",
     "text": [
      "(-1.5127479184413737, 3)\n"
     ]
    }
   ],
   "source": [
    "print(combined_method(a, b, eps))"
   ]
  },
  {
   "cell_type": "markdown",
   "metadata": {},
   "source": [
    "Для построения графика импортируем \"matplotlib\" \n",
    "Подробную информация о графиках на Python можно посмотреть по ссылкам: https://devpractice.ru/python-lesson-6-work-in-jupyter-notebook/    https://eax.me/python-matplotlib/"
   ]
  },
  {
   "cell_type": "code",
   "execution_count": 2,
   "metadata": {},
   "outputs": [],
   "source": [
    "from matplotlib.pyplot import plot\n",
    "import numpy as np"
   ]
  },
  {
   "cell_type": "code",
   "execution_count": 24,
   "metadata": {},
   "outputs": [],
   "source": [
    "xn = np.arange(a, b, 1e-1)\n",
    "y = [f(x) for x in xn]"
   ]
  },
  {
   "cell_type": "code",
   "execution_count": 26,
   "metadata": {},
   "outputs": [
    {
     "data": {
      "text/plain": [
       "[<matplotlib.lines.Line2D at 0x1c1ef63bac8>]"
      ]
     },
     "execution_count": 26,
     "metadata": {},
     "output_type": "execute_result"
    },
    {
     "data": {
      "image/png": "[encoded data removed]",
      "text/plain": [
       "<Figure size 432x288 with 1 Axes>"
      ]
     },
     "metadata": {},
     "output_type": "display_data"
    }
   ],
   "source": [
    "plot(xn, y)"
   ]
  },
  {
   "cell_type": "code",
   "execution_count": null,
   "metadata": {},
   "outputs": [],
   "source": []
  }
 ],
 "metadata": {
  "kernelspec": {
   "display_name": "Python 3",
   "language": "python",
   "name": "python3"
  },
  "language_info": {
   "codemirror_mode": {
    "name": "ipython",
    "version": 3
   },
   "file_extension": ".py",
   "mimetype": "text/x-python",
   "name": "python",
   "nbconvert_exporter": "python",
   "pygments_lexer": "ipython3",
   "version": "3.6.5"
  }
 },
 "nbformat": 4,
 "nbformat_minor": 2
}
