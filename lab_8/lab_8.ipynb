{
 "cells": [
  {
   "cell_type": "markdown",
   "metadata": {},
   "source": [
    "## Лабораторная работа №8\n",
    "## ИНТЕРПОЛИРОВАНИЕ КУБИЧЕСКИМИ СПЛАЙНАМИ"
   ]
  },
  {
   "cell_type": "markdown",
   "metadata": {},
   "source": [
    "Цель работы: научиться решать задачу построения кубического сплайна.Для функции, заданной таблично, построить кусочно-полиномиальный сплайн."
   ]
  },
  {
   "cell_type": "markdown",
   "metadata": {},
   "source": [
    "### Постановка задачи:\n",
    "1.\tПостроить кубический интерполяционный сплайн для заданной системы точек используя Python."
   ]
  },
  {
   "cell_type": "markdown",
   "metadata": {},
   "source": [
    "### Содержание отчета:\n",
    "1.\tПостановка задачи\n",
    "2.\tТаблица значений функции.\n",
    "3.\tТеоретические сведения.\n",
    "4.\tЛистинги счета на ЭВМ.\n",
    "5.\tВыводы.\n"
   ]
  },
  {
   "cell_type": "markdown",
   "metadata": {},
   "source": [
    "### Варианты и задания\n",
    "![title](img/v1.png)\n",
    "![title](img/v2.png)"
   ]
  },
  {
   "cell_type": "markdown",
   "metadata": {},
   "source": [
    "## Руководство по Python\n",
    "\n",
    "Основная информация о Python:\n",
    "https://www.python.org/doc/\n",
    "\n",
    "Numpy и SciPy:\n",
    "https://docs.scipy.org/doc/\n",
    "\n",
    "Графика в Python:\n",
    "https://matplotlib.org/index.html"
   ]
  },
  {
   "cell_type": "code",
   "execution_count": null,
   "metadata": {},
   "outputs": [],
   "source": [
    "#ваш код"
   ]
  },
  {
   "cell_type": "markdown",
   "metadata": {},
   "source": [
    "### Проверка полученных результатов\n",
    "Вы можете проверить свой результат используя гугл-формы по ссылке"
   ]
  }
 ],
 "metadata": {
  "kernelspec": {
   "display_name": "Python 3",
   "language": "python",
   "name": "python3"
  },
  "language_info": {
   "codemirror_mode": {
    "name": "ipython",
    "version": 3
   },
   "file_extension": ".py",
   "mimetype": "text/x-python",
   "name": "python",
   "nbconvert_exporter": "python",
   "pygments_lexer": "ipython3",
   "version": "3.6.5"
  }
 },
 "nbformat": 4,
 "nbformat_minor": 2
}
