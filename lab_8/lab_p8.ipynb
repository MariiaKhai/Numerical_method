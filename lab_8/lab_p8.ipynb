{
 "cells": [
  {
   "cell_type": "markdown",
   "metadata": {},
   "source": [
    "## Лабораторная работа №8\n",
    "## ИНТЕРПОЛИРОВАНИЕ КУБИЧЕСКИМИ СПЛАЙНАМИ"
   ]
  },
  {
   "cell_type": "markdown",
   "metadata": {},
   "source": [
    "Цель работы: научиться решать задачу построения кубического сплайна.Для функции, заданной таблично, построить кусочно-полиномиальный сплайн."
   ]
  },
  {
   "cell_type": "markdown",
   "metadata": {},
   "source": [
    "### Постановка задачи:\n",
    "1.\tПостроить кубический интерполяционный сплайн для заданной системы точек используя Python."
   ]
  },
  {
   "cell_type": "markdown",
   "metadata": {},
   "source": [
    "### Содержание отчета:\n",
    "1.\tПостановка задачи\n",
    "2.\tТаблица значений функции.\n",
    "3.\tТеоретические сведения.\n",
    "4.\tЛистинги счета на ЭВМ.\n",
    "5.\tВыводы.\n"
   ]
  },
  {
   "cell_type": "markdown",
   "metadata": {},
   "source": [
    "### Теоретические сведения\n",
    "Интерполяционный полином не всегда дает хороший результат. Например, аппроксимация резонансных кривых колебательных систем дает большую погрешность как на концах кривых (крыльях), так и между узлами. При увеличении степени интерполяционного полинома погрешность только возрастает (явление волнистости). Широкое распространение для решения задачи интерполяции получает аппарат сплайнов. Рассмотрим интерполяцию кубическими сплайнами. В отличии от интерполяции полиномом на каждом участке строится отдельный сплайн.  \n",
    "Пусть на отрезке $[a, b]$ имеется таблично заданая функция $a= x_{0}<x_{1}<...<x_{n} =b.$ Шаг таблицы может быть непостоянным.   \n",
    "Постановка задачи: На отрезке $[a, b]$ необходимо найти функцию g(x), которая удовлетворяет следующим требованиям:\n",
    "1. Сплайн $g(x)$ принадлежит классу $c2(a,b)$, т.е. $g(x),g'(x),g''(x)$  непрерывны на отрезке $[a,b],$ график $g(x)$ не имеет острых углов (т.к. $g'(x)$ непрерывна), радиус кривизны определен в каждой точке.\n",
    "2. На каждом  участке $g(x)$  является  кубическим   полиномом  III степени, т.е. $$g(x) \\equiv  g_{k}(x)= \\sum_{i=0}^{3} a_{i}^{(k)} ( x_{k} -x)^{i}= ( a_{0} )^{(k)} +( a_{1} )^{(k)}( x_{k} -x) + ( a_{2} )^{(k)} ( x_{k} -x)^{2} +( a_{3} )^{(k)} ( x_{k} -x)^{3}, $$  , \n",
    "где ai(k) – коэффициенты сплайна, которые определимы из допол-нительных условий: $ k= \\overline{(1...n)}$ – номер сплайна.  \n",
    "3. Выполняется основное условие интерполяции:\n",
    "\n",
    "    $$g( x_{k} )=f( x_{k} ) \\forall k= \\overline{(1...n)}. $$  \n",
    "    \n",
    "    \n",
    "4. Вторая производная $g''(x)$ удовлетворяет граничным условиям. В общем случае эти условия зависят от конкретной задачи. Довольно часто используется условие свободных концов сплайнов, а именно $g''(a) = g''(b) = 0.$  \n",
    "В результате построения с соблюдением всех условий будем иметь  \n",
    "\n",
    "$$g(x) =  m_{k-1}  \\frac{ ( x_{k} -x)^{3} }{6 h_{k} } +  m_{k} \\frac{ (x- x_{k-1} )^{2} }{6 h_{k} }  + ( f_{k-1}- m_{k-1} \\frac{  ( h_{k} )^{2} }{6}   )( \\frac{ x_{k} -x}{ h_{k} } ) + ( f_{k}- m_{k} \\frac{ ( h_{k} )^{2} }{6}   ) \\frac{x- x_{k-1} }{ h_{k} },k= \\overline{1,n} .$$  \n",
    "\n",
    "Для определения неизвестных $m_{0}...m_{n}$ используем непрерывность $ g'(x).$ В результате получим систему для определения $m_{k}$ с n-1 уравнением и n+1 неизвестными. Её нужно доопределить для однозначного решения. Дополняем систему граничными условиями, например условиями свободных концов сплайна $m_{0}=m_{n}=0.$  \n",
    "Получаем систему n-1 уравнения с n-1 неизвестными:\n",
    "\n",
    "$$  \\begin{cases}\\frac{ h_{1} + h_{2} }{3} m_{1}+\\frac{ h_{2} }{6} m_{2}= \\frac{ f_{0} }{ h_{1} }-( \\frac{1}{ h_{1} } + \\frac{1}{ h_{2} } ) f_{1} +  \\frac{ f_{2} }{ h_{2} };\\\\ \\frac{ h_{2} }{6} m_{1}+\\frac{ h_{2} + h_{3} }{3} m_{2}+\\frac{ h_{3} }{6} m_{3}= \\frac{ f_{1} }{ h_{2} }-( \\frac{1}{ h_{2} } +\\frac{1}{ h_{3} }) f_{2} + \\frac{ f_{3} }{ h_{3} }; \\\\ \\frac{ h_{3} }{6} m_{2}+\\frac{ h_{3} + h_{4} }{3} m_{3}+\\frac{ h_{4} }{6} m_{4}= \\frac{ f_{2} }{ h_{3} }-( \\frac{1}{ h_{3} } +\\frac{1}{ h_{4} }) f_{3} + \\frac{ f_{4} }{ h_{4} };\\\\--------------------------------------\\\\ \\frac{ h_{n-1} }{6} m_{n-2}+\\frac{ h_{n-1} + h_{n} }{3} m_{n-1}= \\frac{ f_{n-2} }{ h_{n-1} }+( \\frac{1}{ h_{n-1} } +\\frac{1}{ h_{n} }) f_{n-1} + \\frac{ f_{n} }{ h_{n} }.\\end{cases} $$  \n",
    "В матричном виде систему можно записать следующим образом:\n",
    "$$A \\overline{m} =H \\overline{f},$$  \n",
    "где \n",
    "![title](img/matrix.png)\n",
    "Матрица А – неособенная матрица, система для определения m имеет единственное решение, следовательно, сплайн-функция $g(x)$ однозначно восстанавливается, т.е. задача о нахождении кусочно-кубической функции $g(x)$ имеет единственное решение. Решение системы может быть найдено с помощью метода прогонки (частный случай метода Гаусса) или каким-либо другим способом. "
   ]
  },
  {
   "cell_type": "markdown",
   "metadata": {},
   "source": [
    "### Пример\n",
    "Интерполирование кубическим сплайном используя Python."
   ]
  },
  {
   "cell_type": "markdown",
   "metadata": {},
   "source": [
    "## Руководство по Python\n",
    "\n",
    "Основная информация о Python:\n",
    "https://www.python.org/doc/\n",
    "\n",
    "Numpy и SciPy:\n",
    "https://docs.scipy.org/doc/\n",
    "\n",
    "Графика в Python:\n",
    "https://matplotlib.org/index.html"
   ]
  },
  {
   "cell_type": "code",
   "execution_count": 29,
   "metadata": {},
   "outputs": [],
   "source": [
    "#подключение необходимых библиотек\n",
    "import matplotlib.pyplot as plt\n",
    "import numpy as np\n",
    "from scipy.interpolate import interp1d"
   ]
  },
  {
   "cell_type": "code",
   "execution_count": 30,
   "metadata": {},
   "outputs": [],
   "source": [
    "#задание исходных данных\n",
    "x = [4.1, 4.6, 5.2, 6.0, 6.2, 6.5]\n",
    "y = [1.4110, 1.5261, 1.6487, 1.7918, 1.8245, 1.8718]"
   ]
  },
  {
   "cell_type": "code",
   "execution_count": 31,
   "metadata": {},
   "outputs": [],
   "source": [
    "#задание стандартной функции для линейной интерполяции\n",
    "f = interp1d(x, y)"
   ]
  },
  {
   "cell_type": "code",
   "execution_count": 32,
   "metadata": {},
   "outputs": [],
   "source": [
    "#задание стандартной функции для интерполяции кубическими сплайнами\n",
    "f2 = interp1d(x, y, kind='cubic')"
   ]
  },
  {
   "cell_type": "code",
   "execution_count": 33,
   "metadata": {},
   "outputs": [],
   "source": [
    "#задаём массив исходных данных\n",
    "xnew = np.linspace(4.1, 6.5, num=20, endpoint=True)"
   ]
  },
  {
   "cell_type": "code",
   "execution_count": 34,
   "metadata": {},
   "outputs": [
    {
     "data": {
      "image/png": "[encoded data removed]",
      "text/plain": [
       "<Figure size 432x288 with 1 Axes>"
      ]
     },
     "metadata": {},
     "output_type": "display_data"
    }
   ],
   "source": [
    "#применение функции interp1d для заданного массива и отображение результата при помощи графика\n",
    "plt.plot(x, y, 'o', xnew, f(xnew), '-', xnew, f2(xnew), '--')\n",
    "plt.legend(['Данные', 'Линейная', 'Кубическая'], loc='best')\n",
    "plt.show()"
   ]
  },
  {
   "cell_type": "code",
   "execution_count": null,
   "metadata": {},
   "outputs": [],
   "source": []
  }
 ],
 "metadata": {
  "kernelspec": {
   "display_name": "Python 3",
   "language": "python",
   "name": "python3"
  },
  "language_info": {
   "codemirror_mode": {
    "name": "ipython",
    "version": 3
   },
   "file_extension": ".py",
   "mimetype": "text/x-python",
   "name": "python",
   "nbconvert_exporter": "python",
   "pygments_lexer": "ipython3",
   "version": "3.6.5"
  }
 },
 "nbformat": 4,
 "nbformat_minor": 2
}
