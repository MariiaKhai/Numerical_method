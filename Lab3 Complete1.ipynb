{
 "cells": [
  {
   "cell_type": "markdown",
   "metadata": {},
   "source": [
    "## Laboratory work № 3\n",
    "### SOLUTION OF ALGEBRAIC AND TRANSCENDENT  EQUATIONS WITH THE METHOD OF SIMPLE ITERATION\n",
    "\n",
    "Targeted work: to study the simple iteration method, calculate the approximate real root for given equations by the simple iteration method f(x) = 0, calculations are carried out with an accuracy of up to $10^{-5}$."
   ]
  },
  {
   "cell_type": "markdown",
   "metadata": {},
   "source": [
    "### Procedure   \n",
    "\n",
    "1. Separate the roots for the algebraic equation, find the segment containing the smallest positive real root for the transcendental equation.\n",
    "2. To bring the equations to a form suitable for the iteration method.\n",
    "3. Specify the root for the algebraic equation (manual account).\n",
    "4. Solve the problem of refinement of roots by the simple iteration method in Python"
   ]
  },
  {
   "cell_type": "markdown",
   "metadata": {},
   "source": [
    "### Contents of the report\n",
    "1. Statement of the problem.\n",
    "2. Theoretical information, including the convergence condition and the geometric interpretation of the iteration method.\n",
    "3. Reduction of the given equations to a form suitable for the application of the simple iteration method, a manual calculation (two or three iterations).\n",
    "4. Calculation of successive approximations$ x (n = 1,2 ...)$ until the condition $| x (n) -x (n-1) | ≤ 10 {^ -5}$ is fulfilled using the Python programming tools. "
   ]
  },
  {
   "cell_type": "markdown",
   "metadata": {},
   "source": [
    "### Theoretical information\n",
    "Suppose that equation   \n",
    "$f(x) = 0$,    (3.1)   \n",
    "where $f(x)$ is a continuous function. It is required to calculate the real root of the equation on the interval $[a, b]$. We give the given equation $f (x) = 0$ to the equivalent form     \n",
    "$x=φ(x)$    (3.2)   \n",
    "where $φ(x)$ Is some continuous function on the interval $[a,b]$ function.   \n",
    "Choosing an arbitrary $x({0}) є [a,b]$ and substitute it in the right-hand side of (3.2)\n",
    "\n",
    "$ x ^ {1} =φ$ x0 \n",
    "\n",
    "$ x ^ {2} =φ$ x1\n",
    "\n",
    "…………..\n",
    "\n",
    "$ x ^ {n}=φ($ xn-1)\n",
    " "
   ]
  },
  {
   "cell_type": "markdown",
   "metadata": {},
   "source": [
    " is proved that if the iteration sequence x1, x2, x3, ..., xn, ... converges, then its limit is the root of equation x1=φ(x0);\n",
    "and hence the root of the equation f (x) = 0, since the equations are equivalent.\n",
    "\n",
    "For the convergence of the iteration process, it suffices to reduce the original equation f (x) = 0 to the form x1 = φ (x0) so that condition\n",
    "\n",
    "φ`'(x)|⩽M<1;\n",
    "\n",
    "where a⩽x⩽b\n",
    "\n",
    "In this case, the iteration sequence converges independently of the choice of x0. \n"
   ]
  },
  {
   "cell_type": "markdown",
   "metadata": {},
   "source": [
    "Iterations have a geometric interpretation. The solution of equation (3.2) is the abscissa of the point of intersection of the line y = x and the curve $y = φ (x)$.\n",
    "It is geometrically seen that if inequalities $0< φ`'(x)|⩽M<1$, then the sequence {x(k)} monotonically converges ,and from the side with which the initial approximation is located (Figure 3.1).\n",
    "<a><img src=\"https://preview.ibb.co/hhwLwd/911.png\" alt=\"911\" border=\"0\"></a>"
   ]
  },
  {
   "cell_type": "markdown",
   "metadata": {},
   "source": [
    "The equation f (x) = 0 can be transformed to the form x = φ (x) in different ways, so long as the function φ (x) satisfies condition (3.3).  \n",
    "For example, the equation f (x) = 0 is replaced by the equivalent x = x-x * lamd * f (x). In this case, φ (x) = x-lamd * f (x). The parameter lamd is chosen so that | φ '(x) | = | 1-lamd * f (x) | <1 for a⩽x⩽b."
   ]
  },
  {
   "cell_type": "markdown",
   "metadata": {},
   "source": [
    "## An example of solving an equation in Python."
   ]
  },
  {
   "cell_type": "code",
   "execution_count": 1,
   "metadata": {},
   "outputs": [
    {
     "name": "stdout",
     "output_type": "stream",
     "text": [
      "Пожалуйста введите границы интервала [a;b]\n",
      "=> \n",
      "Введите a 0\n",
      "Введите b 2\n",
      "Пожалуйста введите epsilon\n",
      "=> 0.0001\n",
      "1 -th iteration =  1.5\n",
      "2 -th iteration =  1.4166666666666667\n",
      "3 -th iteration =  1.4142156862745099\n",
      "4 -th iteration =  1.4142135623746899\n",
      "Root =  1.4142135623746899\n",
      "Exit?=> 1\n"
     ]
    }
   ],
   "source": [
    "def f(x):\n",
    "    return x*x-2;\n",
    " \n",
    "def df(x):\n",
    "    return 2*x;\n",
    " \n",
    "def d2f(x):\n",
    "       return 2;\n",
    " \n",
    " \n",
    "exit = 0\n",
    "i=0\n",
    " \n",
    "# x0,xn\n",
    "# a, b, eps\n",
    " \n",
    "while True:\n",
    "    i=0\n",
    "    print(\"Пожалуйста введите границы интервала [a;b]\\n=> \")\n",
    "    a = int(input(\"Введите a \"))\n",
    "    b = int(input(\"Введите b \"))\n",
    "    eps = float(input(\"Пожалуйста введите epsilon\\n=> \"))\n",
    " \n",
    "    if a > b: # If the user has confused the boundaries of a segment, changes them by places\n",
    "        x0 = a\n",
    "        a = b\n",
    "        b = x0\n",
    " \n",
    " \n",
    "    if f(a)*f(b)>0: # if the function signs on the edges of the segment are the same, then there is no root\n",
    "        print(\"Error! No roots in this interval\")\n",
    "    else:\n",
    "        if f(a)*d2f(a)>0:\n",
    "            x0  = a \n",
    "        else:\n",
    "            x0 = b\n",
    " \n",
    "        xn = x0-f(x0)/df(x0) # first approximation\n",
    "        i += 1\n",
    "        print(i,\"-th iteration = \",xn)\n",
    " \n",
    "        while abs(x0-xn) > eps: # until we reach the required accuracy, will continue to calculate\n",
    "            x0 = xn\n",
    "            xn = x0-f(x0)/df(x0) # Newton\n",
    "            i += 1\n",
    "            print(i,\"-th iteration = \",xn)\n",
    " \n",
    "        print(\"Root = \",xn) # Answer\n",
    " \n",
    " \n",
    "    exit = int(input(\"Exit?=> \"))\n",
    "    if exit == 1: # exit program write 1\n",
    "        break"
   ]
  },
  {
   "cell_type": "markdown",
   "metadata": {},
   "source": [
    "<a><img src=\"https://preview.ibb.co/dhDFWd/1234.png\" alt=\"1234\" border=\"0\"></a>"
   ]
  },
  {
   "cell_type": "markdown",
   "metadata": {},
   "source": [
    "Google Froms\n",
    "https://docs.google.com/forms/d/1VYVLT4bhma5dcjiebach4J1MuaRZsj-SRLgV5ATx7gg/edit"
   ]
  },
  {
   "cell_type": "code",
   "execution_count": null,
   "metadata": {},
   "outputs": [],
   "source": []
  }
 ],
 "metadata": {
  "kernelspec": {
   "display_name": "Python 3",
   "language": "python",
   "name": "python3"
  },
  "language_info": {
   "codemirror_mode": {
    "name": "ipython",
    "version": 3
   },
   "file_extension": ".py",
   "mimetype": "text/x-python",
   "name": "python",
   "nbconvert_exporter": "python",
   "pygments_lexer": "ipython3",
   "version": "3.6.4"
  }
 },
 "nbformat": 4,
 "nbformat_minor": 2
}
