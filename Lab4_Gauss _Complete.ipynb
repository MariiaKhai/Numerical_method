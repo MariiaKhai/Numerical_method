{
 "cells": [
  {
   "cell_type": "markdown",
   "metadata": {},
   "source": [
    "# Laboratory work №4 \n",
    "## ITERATIVE METHODS FOR LINEAR SYSTEM\n",
    "In this laboratory work, you will get to know iterative methods for\n",
    "solving linear system, Jacobi iteration and Seidel method as well as find\n",
    "out how to solve the given linear system at the accuracy of eps= $10^-3$ .\n",
    "\n",
    "\n",
    "Procedure\n",
    "1. Reduce the system of equations to the form suitable for the Jacobi\n",
    "method.\n",
    "2. Solve the system of algebraic equations by Jacobi and Seidel\n",
    "methods.\n",
    "3. Solve the system of equations by the Jacobi method with\n",
    "MATLAB and MathCAD. Save the obtained number of iterations.\n",
    "4. Find the approximate solution to the system of equations by the\n",
    "Seidel method with MATLAB and MathCAD. Save the obtained number of\n",
    "iterations.\n",
    "6. Compare the obtained results. Check whether the results are\n",
    "correct by means of built-in functions.\n",
    "5. Create a MATLAB script with dialog boxes for choosing solution\n",
    "methods and defining input/output data.\n",
    "Plan for students' reports\n"
   ]
  },
  {
   "cell_type": "markdown",
   "metadata": {},
   "source": [
    "### Plan for students' reports\n",
    "1. Procedure.\n",
    "2. Theoretical background.\n",
    "3. Hand calculations including five iterations for solving the given\n",
    "system by the Jacobi method and the Seidel methods.\n",
    "4. Calculations.\n",
    "5. Conclusions."
   ]
  },
  {
   "cell_type": "markdown",
   "metadata": {},
   "source": [
    "### Theoretical background\n",
    "Linear equation system is a set of linear equations to be solved simultaneously.  \n",
    "A linear equation takes the form $a1x1+ a1x1+ a1x1+…+ a1x1=b$,    \n",
    "where $n+1$ coefficients $a1,a2,…,an$ and $b$ are constants and $x1,x2,…,xn$ are   \n",
    "unknowns. Thus, a system of linear equations can be denoted as \n",
    "\n",
    "<a><img src=\"https://image.ibb.co/jH0JN8/matrix.png\" alt=\"matrix\" border=\"0\" /></a>\n"
   ]
  },
  {
   "cell_type": "markdown",
   "metadata": {},
   "source": [
    "This system consists of m linear equations, each with n+1\n",
    "coefficients, and has n unknowns; solutions to these equations must be\n",
    "found simultaneously. To simplify the notation, it is possible to rewrite the\n",
    "above equations as a matrix: A*x=b.   \n",
    "The elements of the m x n matrix A are equation coefficients a(i,j) and\n",
    "vectors x and b have the elements x(j) and bi respectively. Here, each line\n",
    "forms a linear equation.\n",
    "In order for a solution x to be unique, there must be at least as many\n",
    "equations as unknowns. In terms of matrix, this means that .\n",
    "However, if a system contains more equations than unknowns (m>=n ) it\n",
    "is very likely (not to say the rule) that there exists no solution at all. Such\n",
    "systems are called over-determined since they have more equations than\n",
    "unknowns. They require special mathematical methods to be solved\n",
    "approximately. The most common one is the least squares method which\n",
    "aims at minimizing the sum of the error-squares made in each unknown\n",
    "when trying to solve a system. Such problems usually occur when\n",
    "measuring or fitting data.\n",
    "It is easy to solve a system A ∗ x ൌ b in terms of linear algebra: You\n",
    "only multiply the system by A-1 (inverse matrix) (from the left, resulting in\n",
    "x= A-1b. However, except for trivial cases, it is very difficult to find A-1\n",
    ". When a system of equations is large, iterative methods of solving\n",
    "equations are more advantageous. Elimination methods, such as\n",
    "Gaussian elimination, are prone to large round-off errors for a large set of\n",
    "equations. Iterative methods, such as Jacobi and Seidel methods, give\n",
    "the user control of the round-off error.\n",
    "#### Jacobi iteration  (method of simple iteration).\n",
    "This is the simplest\n",
    "iterative method for solving systems of linear equations. This method is\n",
    "the extension to the fixed-point iteration method that applies to systems of\n",
    "linear equations.\n",
    "<a><img src=\"https://preview.ibb.co/ix6xFT/matrix2.png\" alt=\"matrix2\" border=\"0\" /></a>\n"
   ]
  },
  {
   "cell_type": "markdown",
   "metadata": {},
   "source": [
    "<a><img src=\"https://preview.ibb.co/ndQAKo/matrix3.png\" alt=\"matrix3\" border=\"0\"></a>"
   ]
  },
  {
   "cell_type": "markdown",
   "metadata": {},
   "source": [
    "Thus, by the method of simple iteration, the approximation $X^k + 1$ \n",
    " is\n",
    "calculated for the previous approximation $X^k$ by substituting $X^k$ to\n",
    "the right side of (4.2): "
   ]
  },
  {
   "cell_type": "markdown",
   "metadata": {},
   "source": [
    "<a><img src=\"https://image.ibb.co/cQ9LKo/matrix3.png\" alt=\"matrix3\" border=\"0\"></a>"
   ]
  },
  {
   "cell_type": "markdown",
   "metadata": {},
   "source": [
    "It is proved that if the sequence of vectors $X^k$ has a limit k-> to infinity,\n",
    "this limit is a solution for (4.3).\n",
    "Sufficient condition for convergence is a simple condition, that is:\n",
    "any harmonized norm of the matrix C should be less than one.   \n",
    "|C|<1"
   ]
  },
  {
   "cell_type": "markdown",
   "metadata": {},
   "source": [
    "Hence, in order for the simple iteration method to converge for the\n",
    "equations system X =CX+ F, it is sufficient that the one of the conditions\n",
    "is fulfilled:"
   ]
  },
  {
   "cell_type": "markdown",
   "metadata": {},
   "source": [
    "<a><img src=\"https://preview.ibb.co/hus4C8/Untitled.png\" alt=\"Untitled\" border=\"0\"></a>"
   ]
  },
  {
   "cell_type": "markdown",
   "metadata": {},
   "source": [
    "In practice, we usually adhere to the first or the second condition.\n",
    "The inequalities will be satisfied if modules of diagonal elements for every\n",
    "equation of the original system (4.1) are greater than the sum of absolute\n",
    "values of all other coefficients (not including free members).\n",
    "However, this condition is sufficient, but not necessary. In other words,\n",
    "there are systems for which this condition is not met, but iterative process\n",
    "still converges. \n",
    "The initial vector $X^(0)$ can be chosen arbitrarily. Sometimes, it can\n",
    "be taken as  $X^(0)$->b .\n",
    "However, the most useful initial approximation is to\n",
    "take the approximate values of the unknowns obtained rough estimate.\n",
    "To achieve the necessary accuracy , iterations must continue as\n",
    "long as the condition are not fulfilled "
   ]
  },
  {
   "cell_type": "markdown",
   "metadata": {},
   "source": [
    "<a><img src=\"https://preview.ibb.co/jnvPC8/1.png\" alt=\"1\" border=\"0\"></a>"
   ]
  },
  {
   "cell_type": "markdown",
   "metadata": {},
   "source": [
    "So, in numerical linear algebra, Jacobi method is an algorithm for\n",
    "determining solutions for a system of linear equations with the largest\n",
    "absolute values in each row and column dominated by diagonal element.\n",
    "Each diagonal element is solved for, and an approximate value is plugged\n",
    "in. The process is then iterated until it converges. This algorithm is a\n",
    "stripped-down version of the Jacobi transformation method of matrix\n",
    "diagonalization\n",
    "Seidel iteration is similar to the Jacobi method. Though it can be\n",
    "applied to any matrix with non-zero elements on the diagonals,\n",
    "convergence is only guaranteed if the matrix is either diagonally dominant,\n",
    "or symmetric and positive definite. Seidel method is used to solve the left\n",
    "side of the expression for x, using previous values of x in the right side,\n",
    "but the elements of x(k+1) can be computed sequentially using forward\n",
    "substitution by the following formulas: \n",
    "<a ><img src=\"https://image.ibb.co/kDfrs8/2.png\" alt=\"2\" border=\"0\"></a>"
   ]
  },
  {
   "cell_type": "markdown",
   "metadata": {},
   "source": [
    "The procedure generally continues until changes made by iterations\n",
    "fall below a certain tolerance, such as a sufficiently small residual.\n",
    "For the convergence of the Seidel method, it is enough to satisfy\n",
    "one of conditions: \n"
   ]
  },
  {
   "cell_type": "markdown",
   "metadata": {},
   "source": [
    "<a><img src=\"https://preview.ibb.co/b8G0Ko/113.png\" alt=\"113\" border=\"0\"></a>"
   ]
  },
  {
   "cell_type": "markdown",
   "metadata": {},
   "source": [
    "Recommendations for the application of the Seidel method are the\n",
    "same as those for the method of simple iteration. "
   ]
  },
  {
   "cell_type": "markdown",
   "metadata": {},
   "source": [
    "## Example of solving the system by Gaussian in Python \n"
   ]
  },
  {
   "cell_type": "code",
   "execution_count": null,
   "metadata": {},
   "outputs": [],
   "source": [
    "for k in range(n-1):\n",
    "        #Choose largest pivot element below (and including) k\n",
    "        maxindex = abs(A[k:,k]).argmax() + k\n",
    "        if A[maxindex, k] == 0:\n",
    "            raise ValueError(\"Matrix is singular.\")\n",
    "        #Swap rows\n",
    "        if maxindex != k:\n",
    "            A[[k,maxindex]] = A[[maxindex, k]]\n",
    "            b[[k,maxindex]] = b[[maxindex, k]]\n",
    "        for row in range(k+1, n):\n",
    "            multiplier = A[row][k]/A[k][k]\n",
    "            #the only one in this column since the rest are zero\n",
    "            A[row][k] = multiplier\n",
    "            for col in range(k + 1, n):\n",
    "                A[row][col] = A[row][col] - multiplier*A[k][col]\n",
    "            #Equation solution column\n",
    "            b[row] = b[row] - multiplier*b[k]"
   ]
  },
  {
   "cell_type": "markdown",
   "metadata": {},
   "source": [
    "## Your task for laboratory work\n",
    "<a><img src=\"https://preview.ibb.co/fmjQsJ/1.png\" alt=\"1\" border=\"0\"></a>"
   ]
  },
  {
   "cell_type": "markdown",
   "metadata": {},
   "source": [
    "# All program\n"
   ]
  },
  {
   "cell_type": "code",
   "execution_count": 4,
   "metadata": {},
   "outputs": [
    {
     "name": "stdout",
     "output_type": "stream",
     "text": [
      "[[ 1. -1.  1. -1.]\n",
      " [ 1.  1. -1.  1.]\n",
      " [ 1.  2.  2.  0.]\n",
      " [ 1.  3.  3.  6.]]\n",
      "[[ 14.]\n",
      " [-10.]\n",
      " [  8.]\n",
      " [ -6.]]\n",
      "[ 4. -5.  4. -1.]\n",
      "[[ 1.         -1.          1.         -1.        ]\n",
      " [ 1.          3.          3.          9.        ]\n",
      " [ 1.          0.66666667 -2.         -4.        ]\n",
      " [ 1.          0.33333333  1.          2.        ]]\n",
      "[[ 14.]\n",
      " [-12.]\n",
      " [ -4.]\n",
      " [ -2.]]\n",
      "Answer =  [ 4. -5.  4. -1.]\n"
     ]
    }
   ],
   "source": [
    "import numpy as np\n",
    "import numpy\n",
    "\n",
    "def GENP(A, b):\n",
    "    '''\n",
    "    Gaussian elimination with no pivoting.\n",
    "    % input: A is an n x n nonsingular matrix\n",
    "    %        b is an n x 1 vector\n",
    "    % output: x is the solution of Ax=b.\n",
    "    % post-condition: A and b have been modified. \n",
    "    '''\n",
    "    n =  len(A)\n",
    "    if b.size != n:\n",
    "        raise ValueError(\"Invalid argument: incompatible sizes between A & b.\", b.size, n)\n",
    "    for pivot_row in range(n-1):\n",
    "        for row in range(pivot_row+1, n):\n",
    "            multiplier = A[row][pivot_row]/A[pivot_row][pivot_row]\n",
    "            #the only one in this column since the rest are zero\n",
    "            A[row][pivot_row] = multiplier\n",
    "            for col in range(pivot_row + 1, n):\n",
    "                A[row][col] = A[row][col] - multiplier*A[pivot_row][col]\n",
    "            #Equation solution column\n",
    "            b[row] = b[row] - multiplier*b[pivot_row]\n",
    "    print (A)\n",
    "    print (b)\n",
    "    x = np.zeros(n)\n",
    "    k = n-1\n",
    "    x[k] = b[k]/A[k,k]\n",
    "    while k >= 0:\n",
    "        x[k] = (b[k] - np.dot(A[k,k+1:],x[k+1:]))/A[k,k]\n",
    "        k = k-1\n",
    "    return x\n",
    "\n",
    "def GEPP(A, b):\n",
    "    '''\n",
    "    Gaussian elimination with partial pivoting.\n",
    "    % input: A is an n x n nonsingular matrix\n",
    "    %        b is an n x 1 vector\n",
    "    % output: x is the solution of Ax=b.\n",
    "    % post-condition: A and b have been modified. \n",
    "    '''\n",
    "    n =  len(A)\n",
    "    if b.size != n:\n",
    "        raise ValueError(\"Invalid argument: incompatible sizes between A & b.\", b.size, n)\n",
    "    # k represents the current pivot row. Since GE traverses the matrix in the upper \n",
    "    # right triangle, we also use k for indicating the k-th diagonal column index.\n",
    "    for k in range(n-1):\n",
    "        #Choose largest pivot element below (and including) k\n",
    "        maxindex = abs(A[k:,k]).argmax() + k\n",
    "        if A[maxindex, k] == 0:\n",
    "            raise ValueError(\"Matrix is singular.\")\n",
    "        #Swap rows\n",
    "        if maxindex != k:\n",
    "            A[[k,maxindex]] = A[[maxindex, k]]\n",
    "            b[[k,maxindex]] = b[[maxindex, k]]\n",
    "        for row in range(k+1, n):\n",
    "            multiplier = A[row][k]/A[k][k]\n",
    "            #the only one in this column since the rest are zero\n",
    "            A[row][k] = multiplier\n",
    "            for col in range(k + 1, n):\n",
    "                A[row][col] = A[row][col] - multiplier*A[k][col]\n",
    "            #Equation solution column\n",
    "            b[row] = b[row] - multiplier*b[k]\n",
    "    print (A)\n",
    "    print (b)\n",
    "    x = np.zeros(n)\n",
    "    k = n-1\n",
    "    x[k] = b[k]/A[k,k]\n",
    "    while k >= 0:\n",
    "        x[k] = (b[k] - np.dot(A[k,k+1:],x[k+1:]))/A[k,k]\n",
    "        k = k-1\n",
    "    return x\n",
    "\n",
    "if __name__ == \"__main__\":\n",
    "    A = np.array([[1.,-1.,1.,-1.],\n",
    "                  [1.,0.,0.,0.],\n",
    "                  [1.,1.,1.,1.],\n",
    "                  [1.,2.,4.,8.]])\n",
    "    b =  np.array([[14.],[4.],[2.],[2.]])\n",
    "    print (GENP(np.copy(A), np.copy(b)))\n",
    "    print (\"Answer = \",GEPP(A,b))"
   ]
  },
  {
   "cell_type": "code",
   "execution_count": null,
   "metadata": {},
   "outputs": [],
   "source": []
  }
 ],
 "metadata": {
  "kernelspec": {
   "display_name": "Python 3",
   "language": "python",
   "name": "python3"
  },
  "language_info": {
   "codemirror_mode": {
    "name": "ipython",
    "version": 3
   },
   "file_extension": ".py",
   "mimetype": "text/x-python",
   "name": "python",
   "nbconvert_exporter": "python",
   "pygments_lexer": "ipython3",
   "version": "3.6.4"
  }
 },
 "nbformat": 4,
 "nbformat_minor": 2
}
