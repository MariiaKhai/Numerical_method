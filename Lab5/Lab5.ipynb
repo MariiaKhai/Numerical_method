{
 "cells": [
  {
   "cell_type": "markdown",
   "metadata": {},
   "source": [
    "# Лабораторная работа № 5\n",
    "\n",
    "## ИНТЕРПОЛЯЦИОННЫЙ МНОГОЧЛЕН ЛАГРАНЖА"
   ]
  },
  {
   "cell_type": "markdown",
   "metadata": {},
   "source": [
    "### Цель работы:\n",
    "Изучить метод построения для табличной функции $y(x)$ интерполяционного полинома в форме полинома Лагранжа, сравнить  результаты интерполирования для функции $F(x)$ в случае выбора произвольной сетки узлов интерполирования и в случае выбора узлов Чебышева, оценить погрешность интерполирования. "
   ]
  },
  {
   "cell_type": "markdown",
   "metadata": {},
   "source": [
    "## Постановка задачи\n",
    "\n",
    "1.   Изучить теоретические сведения.\n",
    "2.\t Построить для заданной табличной функции $y(x)$ аналитическую функцию в виде интерполяционного многочлена Лагранжа. Выполнить поставленную задачу в средах  Python.\n",
    "3.\t Определить значение функции в средних точках интервалов \n",
    "\n",
    "$$\\frac{x_{0} + x_{1}}{2}, \\frac{x_{1} + x_{2}}{2}, \\frac{x_{2} + x_{3}}{2}.$$\n",
    "\n",
    "4.\tПроверить результаты с помощью встроенных функций интерполяции. \n",
    "5.\tПредставить полученные результаты графически.\n",
    "6.\tЗадать самостоятельно дробно-рациональную функцию $F(x)$ специального вида. Сравнить с помощью графиков результаты интерполирования для функции $F(x)$ в случае выбора произвольной сетки узлов интерполирования и в случае выбора узлов Чебышева. \n",
    "7.\tНайти значение функции $F(x)$ в промежуточной точке на интервале интерполирования. Оценить погрешность замены функции интерполяционным многочленом.\n"
   ]
  },
  {
   "cell_type": "markdown",
   "metadata": {},
   "source": [
    "## Содержание отчёта\n",
    "\n",
    "1.\tТеоретические сведения. \n",
    "2.\tТаблица значений исходной функции $Y(x)$.\n",
    "3.\tЗапись интерполяционного многочлена $Р(x)$ для заданной табличной функции (без приведения подобных).\n",
    "4.\tЛистинги для решения задачи построения интерполяционного многочлена Лагранжа на Python.\n",
    "5.\tТаблица значений исходной функции $F(x)$ (задать самостоятельно).\n",
    "6.\tСравнительный анализ результатов интерполирования для функции $F(x)$ в случае выбора произвольной сетки узлов интерполирования и в случае выбора узлов Чебышева. \n",
    "7.\tВычисление погрешности интерполирования для произвольной точки функции $F(x)$.\n",
    "8.\tРешение задачи интерполирования для таблицы данных. Графики результата интерполирующего многочлена.\n",
    "9.\tВыводы.\n"
   ]
  },
  {
   "cell_type": "markdown",
   "metadata": {},
   "source": [
    "## Теоретические сведения\n",
    "\n",
    "Для произвольно заданных узлов интерполирования пользуются формулой, обычно называемой интерполяционной формулой Лагранжа.\n",
    "Пусть на отрезке $[a,b]$ заданы точки $x_{k}$, k=0,1,…,n (узлы интерполирования), в которых известны значения функции $f(x)$. Задача интерполирования алгебраическими многочленами состоит в том, чтобы построить многочлен степени n \n",
    "\n",
    "$$L_{n}(x)=a_{0}+a_{1}x+a_{2}x^2$$ (5.1)\n",
    "\n",
    "значения которого в заданных точках совпадают со значениями функции  f(x) в этих точках:\n",
    "\n",
    "$$L_{n}(x_{i})=f(x_{i}), i=0,1,...,n.$$ (5.2)\n",
    "\n",
    "Для любой непрерывной функции $f(x)$ сформулированная задача имеет единственное решение. Действительно, для отыскания коэффициентов $a_{0},a_{1},…a_{n}$ получаем систему линейных уравнений \n",
    "\n",
    "$$a_{0}+a_{1}x_{i}+a_{2}x^2+...+a_{n}x^n=f(x_{i}), i=0,1,...,n$$\n",
    "\n",
    "определитель которой (определитель Вандермонда) отличен от нуля, если среди точек $x_{i}$, i=0,1,…,n нет совпадающих. Решение системы можно записать различным образом. \n",
    "Интерполяционный многочлен, представленный в виде \n",
    "\n",
    "$$P_{n}(x) = \\sum_{i = 0}^{N}w_{i}(x)y_{i}$$  (5.3)\n",
    "\n",
    "называется интерполяционным многочленом Лaгранжа (Жозеф Луи Лагранж — французский математик). Функции $w_{i}$ есть многочлены степени  n, которые называются лагранжевыми коэффициентами:\n",
    "\n",
    "$$W_{i}(x) = \\frac{(x - x_{0})\\cdot(x - x_{1}) ... (x - x_{i - 1})(x - x_{i + 1}) ... (x - x_{N})}{(x_{i} - x_{0})\\cdot(x_{i} - x_{1}) ... (x_{i} - x_{i - 1})\\cdot(x_{i} - x_{i + 1}) ... (x_{i} - x_{N})}$$ (5.4)\n",
    "\n",
    "Рассмотрим два частных случая интерполяционного полинома Лагранжа.\n",
    "    1. При n=1  имеем две узловые точки. Формула Лагранжа представляет в этом случае уравнение прямой $$y = L_{1}(x)$$, проходящей через две заданные точки:\n",
    "\n",
    "$$y = \\frac{x - b}{a - b}y_{0} + \\frac{x - a}{b - a}y_{1}$$\n",
    "\n",
    "где a,b — абсциссы этих точек. \n",
    "    2. При n=2 получим уравнение параболы $$y=L_{2}(x)$$, проходящей через три точки:\n",
    "\n",
    "$$y = \\frac{(x - b)(x - c)}{(a - b)(a - c)}\\cdot y_{0} + \\frac{(x - a)(x - x)}{(b - a)(b - c)}\\cdot y_{1} + \\frac{(x - a)(x - b)}{(c - a)(c - b)}\\cdot y_{2},$$\n",
    "\n",
    "где a,b,c  — абсциссы данных точек.\n",
    "\n",
    "Отметим преимущества и недостатки многочлена Лагранжа.\n",
    "Преимущества: интерполяционный многочлен Лагранжа работает как для таблиц с постоянным шагом, так и для таблиц с переменным шагом; $р_{ni}(x)$ не зависит от функции $f(x)$, откуда следует, что по одной системе узлов можно интерполировать несколько функций. \n",
    "Недостатки: все слагаемые в формуле Лагранжа равнозначны, поэтому при добавление узлов таблицы многочлен Лагранжа придется полностью перестраивать.\n",
    "Погрешность интерполяционной формулы Лагранжа $$R_{n}(x)=f(x)-P_{n}(x)$$ удовлетворяет неравенству\n",
    "\n",
    "$$|R_{n}(x)| \\le \\frac{M_{n+1}}{(n + 1)!}|L(x)|$$\n",
    "\n",
    "где   $M_{n+1} = max|f^{n+1}(x)|,  a \\le x \\le,  L(x) = (x - x_{0})(x - x_{1}) ... (x - x_{N}).$\n",
    "\n",
    "Величину ошибки можно минимизировать, если в качестве узлов интерполяции выбрать абциссы (узпы) полинома Чебышева. Многочлен Чебышева $T_{n}(x)$ на интервале $[-1,1]$ имеет ровно n действительных корней, определяемых как \n",
    "\n",
    "$$t_{k} = cos(\\frac{(2k + 1)\\pi}{2n + 2}), k = 0, 1, ... , n - 1.$$\n",
    "\n",
    "Для того чтобы решить задачу интерполяции на интервале $[a,b]$, необходимо выполнить линейное преобразование\n",
    "\n",
    "$$x_{k} = \\frac{b - a}{2}t_{k} + \\frac{b + a}{2}.$$"
   ]
  },
  {
   "cell_type": "markdown",
   "metadata": {},
   "source": [
    "## Пример выполнения заданий\n",
    "\n",
    "1.\tПостроение полинома Лагранжа для таблично заданной функции.\n",
    "Построить интерполяционный многочлен Лагранжа для функции, заданной в табл. 5.1.\n",
    "\n",
    "![title](img/1.png)\n",
    "\n",
    "Используя полученный интерполяционный многочлен, вычислить приближённо значение в  точке\n",
    "\n",
    "$$f(\\frac{x_{0} + x_{1}}{2}) = f(1,3).$$\n",
    "\n",
    "Для построения интерполяционного многочлена используем формулу (5.3) при  . В результате получаем многочлен третьей степени $P_{3}(x)$, который в узлах интерполяции совпадает с табличными значениями исходной функции:\n",
    "\n",
    "$$P_{3}(x) = \\sum_{k = 0}^{3}L_{k}(x)f(x_{k}) =\n",
    "\\frac{(x - 1.5)(x - 2.0)(x - 2.6)}{(1.1 - 1.5)(1.1 - 2.0)(1.1 - 2.6)}0,0953 +\n",
    "\\frac{(x - 1.1)(x - 2.0)(x - 2.6)}{(1.5 - 1.1)(1.5 - 2.0)(1.5 - 2.6)}0,4055 +\n",
    "\\frac{(x - 1.1)(x - 1.5)(x - 2.6)}{(2.0 - 1.1)(2.0 - 1.5)(2.0 - 2.6)}0,6391 +\n",
    "\\frac{(x - 1.1)(x - 1.5)(x - 2.0)}{(2.6 - 1.1)(2.6 - 1.5)(2.6 - 2.0)}0,9555 \\approx\n",
    "0,064831\\cdot x^{3} - 0,520725\\cdot x^{2} + 1,798113\\cdot x - 1,338907.$$\n",
    "\n",
    "Проверяем условия $P_{3}(x_{i}) = f(x_{i}), (i = 0, 1, 2, 3):$\n",
    "\n",
    "1) $i = 0, x_{0} = 1,1.$\n",
    "Подставляем $x_{0} = 1,1$ в полученный многочлен:\n",
    "\n",
    "$$P_{3}(1,1) \\approx 0,095291 \\approx 0,0953 = f(1,1).$$\n",
    "\n",
    "2) $i = 1, x_{1} = 1,5.$\n",
    "\n",
    "$$P_{3}(1,5) \\approx 0,405493 \\approx 0,4055 = f(1,5).$$\n",
    "\n",
    "3) $i = 2, x_{2} = 2,0.$\n",
    "\n",
    "$$P_{3}(2,0) \\approx 0,693095 \\approx 0,6931 = f(2,0).$$\n",
    "\n",
    "3) $i = 3, x_{3} = 2,6.$\n",
    "\n",
    "$$P_{3}(2,6) \\approx 0,955497 \\approx 0,9555 = f(2,6).$$\n",
    "\n",
    "Вычисляем $f(1,3): f(1,3) \\approx P_{3}(1,3) \\approx 0,261108$"
   ]
  },
  {
   "cell_type": "markdown",
   "metadata": {},
   "source": [
    "##  Построение полинома Лагранжа \n"
   ]
  },
  {
   "cell_type": "code",
   "execution_count": 1,
   "metadata": {},
   "outputs": [],
   "source": [
    "def k_range(k, n):\n",
    "    for i in range(n):\n",
    "        if i != k:\n",
    "            yield i"
   ]
  },
  {
   "cell_type": "code",
   "execution_count": 11,
   "metadata": {},
   "outputs": [],
   "source": [
    "def L(x, y, xx):\n",
    "    n, yy = len(x), 0\n",
    "    for k in range(n):\n",
    "        li = 1\n",
    "        for j in k_range(k, n):\n",
    "            li *= (xx - x[j]) / (x[k] - x[j])\n",
    "        yy += li * y[k]\n",
    "    return yy\n",
    "    "
   ]
  },
  {
   "cell_type": "code",
   "execution_count": 12,
   "metadata": {},
   "outputs": [
    {
     "name": "stdout",
     "output_type": "stream",
     "text": [
      "0.26111703703703704\n"
     ]
    }
   ],
   "source": [
    "x = [1.1, 1.5, 2.0, 2.6]\n",
    "y = [0.0953, 0.4055, 0.6931, 0.9555]\n",
    "print(L(x, y, 1.3))"
   ]
  },
  {
   "cell_type": "markdown",
   "metadata": {},
   "source": [
    "## Пример использования узлов Чебышева.\n",
    "\n",
    "Заданная функция $f(x)$ табулируется на интервале $[-1, 1]$ двумя способами: с шагом 0.2 и в узлах Чебышева. На двух полученных сетках строятся полиномы Лагранжа. Результаты визуализируются с помощью графиков. На графике, приведенном ниже, видно значительное отклонение полинома Лагранжа, построенного на сетке с шагом 0.2, от исходной функции и более приемлемое приближение функции для полинома, построенного на узлах Чебышева:"
   ]
  },
  {
   "cell_type": "code",
   "execution_count": 13,
   "metadata": {},
   "outputs": [],
   "source": [
    "def f(x):\n",
    "    return 1 / (3 + 40 * x ** 2)"
   ]
  },
  {
   "cell_type": "code",
   "execution_count": 14,
   "metadata": {},
   "outputs": [],
   "source": [
    "import math\n",
    "import numpy as np"
   ]
  },
  {
   "cell_type": "code",
   "execution_count": 15,
   "metadata": {},
   "outputs": [],
   "source": [
    "def chebyshev(k, n):\n",
    "    return math.cos((2*k + 1) * math.pi / (2*n + 2))"
   ]
  },
  {
   "cell_type": "code",
   "execution_count": 16,
   "metadata": {},
   "outputs": [
    {
     "data": {
      "image/png": "[encoded data removed]",
      "text/plain": [
       "<Figure size 432x288 with 1 Axes>"
      ]
     },
     "metadata": {},
     "output_type": "display_data"
    }
   ],
   "source": [
    "import matplotlib.pyplot as plt\n",
    "\n",
    "x = np.linspace(-1.0, 1.0, 100)\n",
    "fx = list(map(f, x))\n",
    "\n",
    "plt.plot(x, fx)\n",
    "plt.show()"
   ]
  },
  {
   "cell_type": "code",
   "execution_count": 17,
   "metadata": {},
   "outputs": [
    {
     "data": {
      "image/png": "[encoded data removed]",
      "text/plain": [
       "<Figure size 432x288 with 1 Axes>"
      ]
     },
     "metadata": {},
     "output_type": "display_data"
    }
   ],
   "source": [
    "xx = np.arange(-1, 1, 0.2)\n",
    "fx_lagr = list(map(f, xx))\n",
    "lagr_f = list(map(lambda p: L(xx, fx_lagr, p), x))\n",
    "plt.plot(x, lagr_f)\n",
    "plt.show()"
   ]
  },
  {
   "cell_type": "code",
   "execution_count": 18,
   "metadata": {},
   "outputs": [
    {
     "data": {
      "image/png": "[encoded data removed]",
      "text/plain": [
       "<Figure size 432x288 with 1 Axes>"
      ]
     },
     "metadata": {},
     "output_type": "display_data"
    }
   ],
   "source": [
    "n = 10\n",
    "chebyshev_nodes = [chebyshev(i, n) for i in range(n)]\n",
    "fx_cheb = list(map(f, chebyshev_nodes))\n",
    "lagr_chebyshev = list(map(lambda xx: L(chebyshev_nodes, fx_cheb, xx), x))\n",
    "\n",
    "plt.plot(x, lagr_chebyshev)\n",
    "plt.show()"
   ]
  },
  {
   "cell_type": "code",
   "execution_count": 23,
   "metadata": {},
   "outputs": [
    {
     "data": {
      "image/png": "[encoded data removed]",
      "text/plain": [
       "<Figure size 432x288 with 1 Axes>"
      ]
     },
     "metadata": {},
     "output_type": "display_data"
    }
   ],
   "source": [
    "plt.plot(x, fx, x, lagr_chebyshev)\n",
    "plt.show()"
   ]
  },
  {
   "cell_type": "code",
   "execution_count": 24,
   "metadata": {},
   "outputs": [
    {
     "data": {
      "image/png": "[encoded data removed]",
      "text/plain": [
       "<Figure size 432x288 with 1 Axes>"
      ]
     },
     "metadata": {},
     "output_type": "display_data"
    }
   ],
   "source": [
    "plt.plot(x, fx, x, lagr_chebyshev,x, lagr_f, x, fx)\n",
    "plt.show()"
   ]
  },
  {
   "cell_type": "code",
   "execution_count": null,
   "metadata": {},
   "outputs": [],
   "source": []
  }
 ],
 "metadata": {
  "kernelspec": {
   "display_name": "Python 3",
   "language": "python",
   "name": "python3"
  },
  "language_info": {
   "codemirror_mode": {
    "name": "ipython",
    "version": 3
   },
   "file_extension": ".py",
   "mimetype": "text/x-python",
   "name": "python",
   "nbconvert_exporter": "python",
   "pygments_lexer": "ipython3",
   "version": "3.6.5"
  }
 },
 "nbformat": 4,
 "nbformat_minor": 2
}
