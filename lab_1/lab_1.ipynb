{
 "cells": [
  {
   "cell_type": "markdown",
   "metadata": {},
   "source": [
    "# Лабораторная работа №1\n",
    "## МЕТОД ПОЛОВИННОГО ДЕЛЕНИЯ"
   ]
  },
  {
   "cell_type": "markdown",
   "metadata": {},
   "source": [
    "Цель работы: используя метод половинного деления, вычислить с точностью $\\epsilon = 10^{-5}$ все действительные корни алгебраического уравнения $f(x) = 0 .$ "
   ]
  },
  {
   "cell_type": "markdown",
   "metadata": {},
   "source": [
    "### Постановка задачи\n",
    "\n",
    "1.\tНайти интервалы изоляции корней для заданного алгебраического уравнения  . \n",
    "2.\tУточнить один из корней методом дихотомии (ручной счет), выполнив пять-шесть итераций.\n",
    "3.\tРешить задачу уточнения корней используя Python.\n",
    "\n"
   ]
  },
  {
   "cell_type": "markdown",
   "metadata": {},
   "source": [
    "### Содержание отчета\n",
    "1.\tПостановка задачи.\n",
    "2.\tТеоретические сведения.\n",
    "3.\tПять-шесть итераций метода дихотомии (ручной счет).\n",
    "4.\tРезультаты расчета на ЭВМ.\n",
    "5.\tВыводы.\n"
   ]
  },
  {
   "cell_type": "markdown",
   "metadata": {},
   "source": [
    "### Варианты и задания\n",
    "![title](img/v.png)"
   ]
  },
  {
   "cell_type": "markdown",
   "metadata": {},
   "source": [
    "## Руководство по Python\n",
    "\n",
    "Основная информация о Python:\n",
    "https://www.python.org/doc/\n",
    "\n",
    "Numpy и SciPy:\n",
    "https://docs.scipy.org/doc/\n",
    "\n",
    "Графика в Python:\n",
    "https://matplotlib.org/index.html"
   ]
  },
  {
   "cell_type": "code",
   "execution_count": 1,
   "metadata": {},
   "outputs": [],
   "source": [
    "#ваш код"
   ]
  },
  {
   "cell_type": "markdown",
   "metadata": {},
   "source": [
    "### Проверка полученных результатов\n",
    "Вы можете проверить свой результат используя гугл-формы по ссылке"
   ]
  },
  {
   "cell_type": "code",
   "execution_count": null,
   "metadata": {},
   "outputs": [],
   "source": []
  }
 ],
 "metadata": {
  "kernelspec": {
   "display_name": "Python 3",
   "language": "python",
   "name": "python3"
  },
  "language_info": {
   "codemirror_mode": {
    "name": "ipython",
    "version": 3
   },
   "file_extension": ".py",
   "mimetype": "text/x-python",
   "name": "python",
   "nbconvert_exporter": "python",
   "pygments_lexer": "ipython3",
   "version": "3.6.5"
  }
 },
 "nbformat": 4,
 "nbformat_minor": 2
}
